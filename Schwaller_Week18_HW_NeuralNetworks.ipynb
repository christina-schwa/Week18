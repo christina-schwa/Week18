{
 "cells": [
  {
   "cell_type": "markdown",
   "id": "4dc79d3e",
   "metadata": {},
   "source": [
    "# Week 18 Homework: Neural Networks"
   ]
  },
  {
   "cell_type": "markdown",
   "id": "88f77a6f",
   "metadata": {},
   "source": [
    "### 1.\tWhat is a neural network? What are the general steps required to build a neural network?"
   ]
  },
  {
   "cell_type": "code",
   "execution_count": null,
   "id": "077fe620",
   "metadata": {},
   "outputs": [],
   "source": []
  },
  {
   "cell_type": "markdown",
   "id": "4dc647b4",
   "metadata": {},
   "source": [
    "### 2.\tGenerally, how do you check the performance of a neural network? Why?"
   ]
  },
  {
   "cell_type": "code",
   "execution_count": null,
   "id": "c9ef83e4",
   "metadata": {},
   "outputs": [],
   "source": []
  },
  {
   "cell_type": "markdown",
   "id": "5d3af4d9",
   "metadata": {},
   "source": [
    "### 3.\tCreate a neural network using keras to predict the outcome of either of these datasets: \n",
    "* Cardiac Arrhythmia: https://archive.ics.uci.edu/ml/datasets/Arrhythmia \n",
    "* Abalone age: https://archive.ics.uci.edu/ml/datasets/Abalone"
   ]
  },
  {
   "cell_type": "code",
   "execution_count": 1,
   "id": "f5683153",
   "metadata": {},
   "outputs": [],
   "source": [
    "import pandas as pd\n",
    "import numpy as np\n",
    "from sklearn import tree\n",
    "from sklearn.metrics import confusion_matrix, classification_report, plot_confusion_matrix\n",
    "import pydotplus\n",
    "from IPython.display import Image"
   ]
  },
  {
   "cell_type": "code",
   "execution_count": 2,
   "id": "803b58ef",
   "metadata": {},
   "outputs": [
    {
     "data": {
      "text/html": [
       "<div>\n",
       "<style scoped>\n",
       "    .dataframe tbody tr th:only-of-type {\n",
       "        vertical-align: middle;\n",
       "    }\n",
       "\n",
       "    .dataframe tbody tr th {\n",
       "        vertical-align: top;\n",
       "    }\n",
       "\n",
       "    .dataframe thead th {\n",
       "        text-align: right;\n",
       "    }\n",
       "</style>\n",
       "<table border=\"1\" class=\"dataframe\">\n",
       "  <thead>\n",
       "    <tr style=\"text-align: right;\">\n",
       "      <th></th>\n",
       "      <th>Sex</th>\n",
       "      <th>Length</th>\n",
       "      <th>Diameter</th>\n",
       "      <th>Height</th>\n",
       "      <th>Whole weight</th>\n",
       "      <th>Shucked weight</th>\n",
       "      <th>Viscera weight</th>\n",
       "      <th>Shell weight</th>\n",
       "      <th>Rings</th>\n",
       "    </tr>\n",
       "  </thead>\n",
       "  <tbody>\n",
       "    <tr>\n",
       "      <th>0</th>\n",
       "      <td>M</td>\n",
       "      <td>0.455</td>\n",
       "      <td>0.365</td>\n",
       "      <td>0.095</td>\n",
       "      <td>0.5140</td>\n",
       "      <td>0.2245</td>\n",
       "      <td>0.1010</td>\n",
       "      <td>0.150</td>\n",
       "      <td>15</td>\n",
       "    </tr>\n",
       "    <tr>\n",
       "      <th>1</th>\n",
       "      <td>M</td>\n",
       "      <td>0.350</td>\n",
       "      <td>0.265</td>\n",
       "      <td>0.090</td>\n",
       "      <td>0.2255</td>\n",
       "      <td>0.0995</td>\n",
       "      <td>0.0485</td>\n",
       "      <td>0.070</td>\n",
       "      <td>7</td>\n",
       "    </tr>\n",
       "    <tr>\n",
       "      <th>2</th>\n",
       "      <td>F</td>\n",
       "      <td>0.530</td>\n",
       "      <td>0.420</td>\n",
       "      <td>0.135</td>\n",
       "      <td>0.6770</td>\n",
       "      <td>0.2565</td>\n",
       "      <td>0.1415</td>\n",
       "      <td>0.210</td>\n",
       "      <td>9</td>\n",
       "    </tr>\n",
       "    <tr>\n",
       "      <th>3</th>\n",
       "      <td>M</td>\n",
       "      <td>0.440</td>\n",
       "      <td>0.365</td>\n",
       "      <td>0.125</td>\n",
       "      <td>0.5160</td>\n",
       "      <td>0.2155</td>\n",
       "      <td>0.1140</td>\n",
       "      <td>0.155</td>\n",
       "      <td>10</td>\n",
       "    </tr>\n",
       "    <tr>\n",
       "      <th>4</th>\n",
       "      <td>I</td>\n",
       "      <td>0.330</td>\n",
       "      <td>0.255</td>\n",
       "      <td>0.080</td>\n",
       "      <td>0.2050</td>\n",
       "      <td>0.0895</td>\n",
       "      <td>0.0395</td>\n",
       "      <td>0.055</td>\n",
       "      <td>7</td>\n",
       "    </tr>\n",
       "  </tbody>\n",
       "</table>\n",
       "</div>"
      ],
      "text/plain": [
       "  Sex  Length  Diameter  Height  Whole weight  Shucked weight  Viscera weight  \\\n",
       "0   M   0.455     0.365   0.095        0.5140          0.2245          0.1010   \n",
       "1   M   0.350     0.265   0.090        0.2255          0.0995          0.0485   \n",
       "2   F   0.530     0.420   0.135        0.6770          0.2565          0.1415   \n",
       "3   M   0.440     0.365   0.125        0.5160          0.2155          0.1140   \n",
       "4   I   0.330     0.255   0.080        0.2050          0.0895          0.0395   \n",
       "\n",
       "   Shell weight  Rings  \n",
       "0         0.150     15  \n",
       "1         0.070      7  \n",
       "2         0.210      9  \n",
       "3         0.155     10  \n",
       "4         0.055      7  "
      ]
     },
     "execution_count": 2,
     "metadata": {},
     "output_type": "execute_result"
    }
   ],
   "source": [
    "abalone_df = pd.read_csv(\"abalone.data\", names=['Sex', 'Length', 'Diameter', 'Height', 'Whole weight', 'Shucked weight', 'Viscera weight', 'Shell weight', 'Rings'])\n",
    "abalone_df.head()"
   ]
  },
  {
   "cell_type": "code",
   "execution_count": 4,
   "id": "ba93c0cb",
   "metadata": {},
   "outputs": [
    {
     "data": {
      "text/html": [
       "<div>\n",
       "<style scoped>\n",
       "    .dataframe tbody tr th:only-of-type {\n",
       "        vertical-align: middle;\n",
       "    }\n",
       "\n",
       "    .dataframe tbody tr th {\n",
       "        vertical-align: top;\n",
       "    }\n",
       "\n",
       "    .dataframe thead th {\n",
       "        text-align: right;\n",
       "    }\n",
       "</style>\n",
       "<table border=\"1\" class=\"dataframe\">\n",
       "  <thead>\n",
       "    <tr style=\"text-align: right;\">\n",
       "      <th></th>\n",
       "      <th>Sex</th>\n",
       "      <th>Length</th>\n",
       "      <th>Diameter</th>\n",
       "      <th>Height</th>\n",
       "      <th>Whole weight</th>\n",
       "      <th>Shucked weight</th>\n",
       "      <th>Viscera weight</th>\n",
       "      <th>Shell weight</th>\n",
       "      <th>Rings</th>\n",
       "    </tr>\n",
       "  </thead>\n",
       "  <tbody>\n",
       "    <tr>\n",
       "      <th>0</th>\n",
       "      <td>2</td>\n",
       "      <td>0.455</td>\n",
       "      <td>0.365</td>\n",
       "      <td>0.095</td>\n",
       "      <td>0.5140</td>\n",
       "      <td>0.2245</td>\n",
       "      <td>0.1010</td>\n",
       "      <td>0.150</td>\n",
       "      <td>15</td>\n",
       "    </tr>\n",
       "    <tr>\n",
       "      <th>1</th>\n",
       "      <td>2</td>\n",
       "      <td>0.350</td>\n",
       "      <td>0.265</td>\n",
       "      <td>0.090</td>\n",
       "      <td>0.2255</td>\n",
       "      <td>0.0995</td>\n",
       "      <td>0.0485</td>\n",
       "      <td>0.070</td>\n",
       "      <td>7</td>\n",
       "    </tr>\n",
       "    <tr>\n",
       "      <th>2</th>\n",
       "      <td>1</td>\n",
       "      <td>0.530</td>\n",
       "      <td>0.420</td>\n",
       "      <td>0.135</td>\n",
       "      <td>0.6770</td>\n",
       "      <td>0.2565</td>\n",
       "      <td>0.1415</td>\n",
       "      <td>0.210</td>\n",
       "      <td>9</td>\n",
       "    </tr>\n",
       "    <tr>\n",
       "      <th>3</th>\n",
       "      <td>2</td>\n",
       "      <td>0.440</td>\n",
       "      <td>0.365</td>\n",
       "      <td>0.125</td>\n",
       "      <td>0.5160</td>\n",
       "      <td>0.2155</td>\n",
       "      <td>0.1140</td>\n",
       "      <td>0.155</td>\n",
       "      <td>10</td>\n",
       "    </tr>\n",
       "    <tr>\n",
       "      <th>4</th>\n",
       "      <td>0</td>\n",
       "      <td>0.330</td>\n",
       "      <td>0.255</td>\n",
       "      <td>0.080</td>\n",
       "      <td>0.2050</td>\n",
       "      <td>0.0895</td>\n",
       "      <td>0.0395</td>\n",
       "      <td>0.055</td>\n",
       "      <td>7</td>\n",
       "    </tr>\n",
       "  </tbody>\n",
       "</table>\n",
       "</div>"
      ],
      "text/plain": [
       "   Sex  Length  Diameter  Height  Whole weight  Shucked weight  \\\n",
       "0    2   0.455     0.365   0.095        0.5140          0.2245   \n",
       "1    2   0.350     0.265   0.090        0.2255          0.0995   \n",
       "2    1   0.530     0.420   0.135        0.6770          0.2565   \n",
       "3    2   0.440     0.365   0.125        0.5160          0.2155   \n",
       "4    0   0.330     0.255   0.080        0.2050          0.0895   \n",
       "\n",
       "   Viscera weight  Shell weight  Rings  \n",
       "0          0.1010         0.150     15  \n",
       "1          0.0485         0.070      7  \n",
       "2          0.1415         0.210      9  \n",
       "3          0.1140         0.155     10  \n",
       "4          0.0395         0.055      7  "
      ]
     },
     "execution_count": 4,
     "metadata": {},
     "output_type": "execute_result"
    }
   ],
   "source": [
    "#Preprocessing: Integer encoding in \"Sex\" column\n",
    "sex_map = {\"I\":0, \"F\":1, \"M\":2}\n",
    "abalone_df[\"Sex\"] = abalone_df[\"Sex\"].map(sex_map)\n",
    "abalone_df.head()"
   ]
  },
  {
   "cell_type": "code",
   "execution_count": 5,
   "id": "cbe8fd32",
   "metadata": {},
   "outputs": [],
   "source": [
    "#Add an \"Age\" column, calculated by number of rings plus 1.5\n",
    "abalone_df['Age'] = abalone_df.Rings+1.5"
   ]
  },
  {
   "cell_type": "code",
   "execution_count": 6,
   "id": "8104a773",
   "metadata": {},
   "outputs": [],
   "source": [
    "#drop \"Rings\" column because of a 1-to-1 correspondence with \"Age.\"\n",
    "abalone_df.drop('Rings', axis=1, inplace=True)"
   ]
  },
  {
   "cell_type": "code",
   "execution_count": 7,
   "id": "0c666e2e",
   "metadata": {},
   "outputs": [],
   "source": [
    "abalone_df_new = abalone_df.copy()"
   ]
  },
  {
   "cell_type": "code",
   "execution_count": 8,
   "id": "a5ae9dcd",
   "metadata": {},
   "outputs": [
    {
     "data": {
      "text/html": [
       "<div>\n",
       "<style scoped>\n",
       "    .dataframe tbody tr th:only-of-type {\n",
       "        vertical-align: middle;\n",
       "    }\n",
       "\n",
       "    .dataframe tbody tr th {\n",
       "        vertical-align: top;\n",
       "    }\n",
       "\n",
       "    .dataframe thead th {\n",
       "        text-align: right;\n",
       "    }\n",
       "</style>\n",
       "<table border=\"1\" class=\"dataframe\">\n",
       "  <thead>\n",
       "    <tr style=\"text-align: right;\">\n",
       "      <th></th>\n",
       "      <th>Sex</th>\n",
       "      <th>Length</th>\n",
       "      <th>Diameter</th>\n",
       "      <th>Height</th>\n",
       "      <th>Whole weight</th>\n",
       "      <th>Shucked weight</th>\n",
       "      <th>Viscera weight</th>\n",
       "      <th>Shell weight</th>\n",
       "      <th>Age</th>\n",
       "    </tr>\n",
       "  </thead>\n",
       "  <tbody>\n",
       "    <tr>\n",
       "      <th>Sex</th>\n",
       "      <td>1.000000</td>\n",
       "      <td>0.448765</td>\n",
       "      <td>0.458245</td>\n",
       "      <td>0.417928</td>\n",
       "      <td>0.461238</td>\n",
       "      <td>0.440927</td>\n",
       "      <td>0.454658</td>\n",
       "      <td>0.445549</td>\n",
       "      <td>0.351822</td>\n",
       "    </tr>\n",
       "    <tr>\n",
       "      <th>Length</th>\n",
       "      <td>0.448765</td>\n",
       "      <td>1.000000</td>\n",
       "      <td>0.986812</td>\n",
       "      <td>0.827554</td>\n",
       "      <td>0.925261</td>\n",
       "      <td>0.897914</td>\n",
       "      <td>0.903018</td>\n",
       "      <td>0.897706</td>\n",
       "      <td>0.556720</td>\n",
       "    </tr>\n",
       "    <tr>\n",
       "      <th>Diameter</th>\n",
       "      <td>0.458245</td>\n",
       "      <td>0.986812</td>\n",
       "      <td>1.000000</td>\n",
       "      <td>0.833684</td>\n",
       "      <td>0.925452</td>\n",
       "      <td>0.893162</td>\n",
       "      <td>0.899724</td>\n",
       "      <td>0.905330</td>\n",
       "      <td>0.574660</td>\n",
       "    </tr>\n",
       "    <tr>\n",
       "      <th>Height</th>\n",
       "      <td>0.417928</td>\n",
       "      <td>0.827554</td>\n",
       "      <td>0.833684</td>\n",
       "      <td>1.000000</td>\n",
       "      <td>0.819221</td>\n",
       "      <td>0.774972</td>\n",
       "      <td>0.798319</td>\n",
       "      <td>0.817338</td>\n",
       "      <td>0.557467</td>\n",
       "    </tr>\n",
       "    <tr>\n",
       "      <th>Whole weight</th>\n",
       "      <td>0.461238</td>\n",
       "      <td>0.925261</td>\n",
       "      <td>0.925452</td>\n",
       "      <td>0.819221</td>\n",
       "      <td>1.000000</td>\n",
       "      <td>0.969405</td>\n",
       "      <td>0.966375</td>\n",
       "      <td>0.955355</td>\n",
       "      <td>0.540390</td>\n",
       "    </tr>\n",
       "    <tr>\n",
       "      <th>Shucked weight</th>\n",
       "      <td>0.440927</td>\n",
       "      <td>0.897914</td>\n",
       "      <td>0.893162</td>\n",
       "      <td>0.774972</td>\n",
       "      <td>0.969405</td>\n",
       "      <td>1.000000</td>\n",
       "      <td>0.931961</td>\n",
       "      <td>0.882617</td>\n",
       "      <td>0.420884</td>\n",
       "    </tr>\n",
       "    <tr>\n",
       "      <th>Viscera weight</th>\n",
       "      <td>0.454658</td>\n",
       "      <td>0.903018</td>\n",
       "      <td>0.899724</td>\n",
       "      <td>0.798319</td>\n",
       "      <td>0.966375</td>\n",
       "      <td>0.931961</td>\n",
       "      <td>1.000000</td>\n",
       "      <td>0.907656</td>\n",
       "      <td>0.503819</td>\n",
       "    </tr>\n",
       "    <tr>\n",
       "      <th>Shell weight</th>\n",
       "      <td>0.445549</td>\n",
       "      <td>0.897706</td>\n",
       "      <td>0.905330</td>\n",
       "      <td>0.817338</td>\n",
       "      <td>0.955355</td>\n",
       "      <td>0.882617</td>\n",
       "      <td>0.907656</td>\n",
       "      <td>1.000000</td>\n",
       "      <td>0.627574</td>\n",
       "    </tr>\n",
       "    <tr>\n",
       "      <th>Age</th>\n",
       "      <td>0.351822</td>\n",
       "      <td>0.556720</td>\n",
       "      <td>0.574660</td>\n",
       "      <td>0.557467</td>\n",
       "      <td>0.540390</td>\n",
       "      <td>0.420884</td>\n",
       "      <td>0.503819</td>\n",
       "      <td>0.627574</td>\n",
       "      <td>1.000000</td>\n",
       "    </tr>\n",
       "  </tbody>\n",
       "</table>\n",
       "</div>"
      ],
      "text/plain": [
       "                     Sex    Length  Diameter    Height  Whole weight  \\\n",
       "Sex             1.000000  0.448765  0.458245  0.417928      0.461238   \n",
       "Length          0.448765  1.000000  0.986812  0.827554      0.925261   \n",
       "Diameter        0.458245  0.986812  1.000000  0.833684      0.925452   \n",
       "Height          0.417928  0.827554  0.833684  1.000000      0.819221   \n",
       "Whole weight    0.461238  0.925261  0.925452  0.819221      1.000000   \n",
       "Shucked weight  0.440927  0.897914  0.893162  0.774972      0.969405   \n",
       "Viscera weight  0.454658  0.903018  0.899724  0.798319      0.966375   \n",
       "Shell weight    0.445549  0.897706  0.905330  0.817338      0.955355   \n",
       "Age             0.351822  0.556720  0.574660  0.557467      0.540390   \n",
       "\n",
       "                Shucked weight  Viscera weight  Shell weight       Age  \n",
       "Sex                   0.440927        0.454658      0.445549  0.351822  \n",
       "Length                0.897914        0.903018      0.897706  0.556720  \n",
       "Diameter              0.893162        0.899724      0.905330  0.574660  \n",
       "Height                0.774972        0.798319      0.817338  0.557467  \n",
       "Whole weight          0.969405        0.966375      0.955355  0.540390  \n",
       "Shucked weight        1.000000        0.931961      0.882617  0.420884  \n",
       "Viscera weight        0.931961        1.000000      0.907656  0.503819  \n",
       "Shell weight          0.882617        0.907656      1.000000  0.627574  \n",
       "Age                   0.420884        0.503819      0.627574  1.000000  "
      ]
     },
     "execution_count": 8,
     "metadata": {},
     "output_type": "execute_result"
    }
   ],
   "source": [
    "abalone_corrMatrix = abalone_df_new.corr()\n",
    "abalone_corrMatrix "
   ]
  },
  {
   "cell_type": "code",
   "execution_count": 9,
   "id": "7918ffd5",
   "metadata": {},
   "outputs": [
    {
     "data": {
      "image/png": "[encoded data removed]",
      "text/plain": [
       "<Figure size 1440x1440 with 2 Axes>"
      ]
     },
     "metadata": {
      "needs_background": "light"
     },
     "output_type": "display_data"
    }
   ],
   "source": [
    "import matplotlib.pyplot as plt\n",
    "import seaborn as sns\n",
    "fig, ax = plt.subplots(figsize=(20,20))\n",
    "sns.heatmap(abalone_corrMatrix, annot=True)\n",
    "plt.show()"
   ]
  },
  {
   "cell_type": "code",
   "execution_count": 10,
   "id": "e177f708",
   "metadata": {},
   "outputs": [],
   "source": [
    "#Because length and diameter have a correlation coefficient of 0.99, delete one.\n",
    "#I chose diameter for deletion.\n",
    "#Whole weight also had a 0.96-0.97 correlation with viscera weight, shell weight, and shucked weight,\n",
    "#so I dropped bthe latter three."
   ]
  },
  {
   "cell_type": "code",
   "execution_count": 11,
   "id": "e9f8d939",
   "metadata": {},
   "outputs": [
    {
     "data": {
      "text/html": [
       "<div>\n",
       "<style scoped>\n",
       "    .dataframe tbody tr th:only-of-type {\n",
       "        vertical-align: middle;\n",
       "    }\n",
       "\n",
       "    .dataframe tbody tr th {\n",
       "        vertical-align: top;\n",
       "    }\n",
       "\n",
       "    .dataframe thead th {\n",
       "        text-align: right;\n",
       "    }\n",
       "</style>\n",
       "<table border=\"1\" class=\"dataframe\">\n",
       "  <thead>\n",
       "    <tr style=\"text-align: right;\">\n",
       "      <th></th>\n",
       "      <th>Sex</th>\n",
       "      <th>Length</th>\n",
       "      <th>Height</th>\n",
       "      <th>Whole weight</th>\n",
       "      <th>Age</th>\n",
       "    </tr>\n",
       "  </thead>\n",
       "  <tbody>\n",
       "    <tr>\n",
       "      <th>0</th>\n",
       "      <td>2</td>\n",
       "      <td>0.455</td>\n",
       "      <td>0.095</td>\n",
       "      <td>0.5140</td>\n",
       "      <td>16.5</td>\n",
       "    </tr>\n",
       "    <tr>\n",
       "      <th>1</th>\n",
       "      <td>2</td>\n",
       "      <td>0.350</td>\n",
       "      <td>0.090</td>\n",
       "      <td>0.2255</td>\n",
       "      <td>8.5</td>\n",
       "    </tr>\n",
       "    <tr>\n",
       "      <th>2</th>\n",
       "      <td>1</td>\n",
       "      <td>0.530</td>\n",
       "      <td>0.135</td>\n",
       "      <td>0.6770</td>\n",
       "      <td>10.5</td>\n",
       "    </tr>\n",
       "    <tr>\n",
       "      <th>3</th>\n",
       "      <td>2</td>\n",
       "      <td>0.440</td>\n",
       "      <td>0.125</td>\n",
       "      <td>0.5160</td>\n",
       "      <td>11.5</td>\n",
       "    </tr>\n",
       "    <tr>\n",
       "      <th>4</th>\n",
       "      <td>0</td>\n",
       "      <td>0.330</td>\n",
       "      <td>0.080</td>\n",
       "      <td>0.2050</td>\n",
       "      <td>8.5</td>\n",
       "    </tr>\n",
       "  </tbody>\n",
       "</table>\n",
       "</div>"
      ],
      "text/plain": [
       "   Sex  Length  Height  Whole weight   Age\n",
       "0    2   0.455   0.095        0.5140  16.5\n",
       "1    2   0.350   0.090        0.2255   8.5\n",
       "2    1   0.530   0.135        0.6770  10.5\n",
       "3    2   0.440   0.125        0.5160  11.5\n",
       "4    0   0.330   0.080        0.2050   8.5"
      ]
     },
     "execution_count": 11,
     "metadata": {},
     "output_type": "execute_result"
    }
   ],
   "source": [
    "columns_to_drop = ['Diameter','Viscera weight', 'Shucked weight', 'Shell weight']\n",
    "abalone_df_new.drop(columns_to_drop, axis=1, inplace=True)\n",
    "abalone_df_new.head()"
   ]
  },
  {
   "cell_type": "code",
   "execution_count": 12,
   "id": "e3cce249",
   "metadata": {},
   "outputs": [
    {
     "data": {
      "text/html": [
       "<div>\n",
       "<style scoped>\n",
       "    .dataframe tbody tr th:only-of-type {\n",
       "        vertical-align: middle;\n",
       "    }\n",
       "\n",
       "    .dataframe tbody tr th {\n",
       "        vertical-align: top;\n",
       "    }\n",
       "\n",
       "    .dataframe thead th {\n",
       "        text-align: right;\n",
       "    }\n",
       "</style>\n",
       "<table border=\"1\" class=\"dataframe\">\n",
       "  <thead>\n",
       "    <tr style=\"text-align: right;\">\n",
       "      <th></th>\n",
       "      <th>Sex</th>\n",
       "      <th>Length</th>\n",
       "      <th>Height</th>\n",
       "      <th>Whole weight</th>\n",
       "      <th>Age</th>\n",
       "    </tr>\n",
       "  </thead>\n",
       "  <tbody>\n",
       "    <tr>\n",
       "      <th>Sex</th>\n",
       "      <td>1.000000</td>\n",
       "      <td>0.448765</td>\n",
       "      <td>0.417928</td>\n",
       "      <td>0.461238</td>\n",
       "      <td>0.351822</td>\n",
       "    </tr>\n",
       "    <tr>\n",
       "      <th>Length</th>\n",
       "      <td>0.448765</td>\n",
       "      <td>1.000000</td>\n",
       "      <td>0.827554</td>\n",
       "      <td>0.925261</td>\n",
       "      <td>0.556720</td>\n",
       "    </tr>\n",
       "    <tr>\n",
       "      <th>Height</th>\n",
       "      <td>0.417928</td>\n",
       "      <td>0.827554</td>\n",
       "      <td>1.000000</td>\n",
       "      <td>0.819221</td>\n",
       "      <td>0.557467</td>\n",
       "    </tr>\n",
       "    <tr>\n",
       "      <th>Whole weight</th>\n",
       "      <td>0.461238</td>\n",
       "      <td>0.925261</td>\n",
       "      <td>0.819221</td>\n",
       "      <td>1.000000</td>\n",
       "      <td>0.540390</td>\n",
       "    </tr>\n",
       "    <tr>\n",
       "      <th>Age</th>\n",
       "      <td>0.351822</td>\n",
       "      <td>0.556720</td>\n",
       "      <td>0.557467</td>\n",
       "      <td>0.540390</td>\n",
       "      <td>1.000000</td>\n",
       "    </tr>\n",
       "  </tbody>\n",
       "</table>\n",
       "</div>"
      ],
      "text/plain": [
       "                   Sex    Length    Height  Whole weight       Age\n",
       "Sex           1.000000  0.448765  0.417928      0.461238  0.351822\n",
       "Length        0.448765  1.000000  0.827554      0.925261  0.556720\n",
       "Height        0.417928  0.827554  1.000000      0.819221  0.557467\n",
       "Whole weight  0.461238  0.925261  0.819221      1.000000  0.540390\n",
       "Age           0.351822  0.556720  0.557467      0.540390  1.000000"
      ]
     },
     "execution_count": 12,
     "metadata": {},
     "output_type": "execute_result"
    }
   ],
   "source": [
    "abalone_corrMatrix = abalone_df_new.corr()\n",
    "abalone_corrMatrix "
   ]
  },
  {
   "cell_type": "code",
   "execution_count": 92,
   "id": "6a0cbf1e",
   "metadata": {},
   "outputs": [
    {
     "name": "stdout",
     "output_type": "stream",
     "text": [
      "(4177, 8)\n",
      "(4177, 1)\n"
     ]
    }
   ],
   "source": [
    "#Set X and y for the models\n",
    "X = abalone_df.drop('Age', axis=1).values\n",
    "y = abalone_df['Age'].values.reshape(-1,1)\n",
    "\n",
    "print(X.shape)\n",
    "print(y.shape)\n",
    "\n",
    "#import train test split\n",
    "from sklearn.model_selection import train_test_split\n",
    "\n",
    "#split the dataset into testing and training portions, with the testing portion making up 20% of the data.\n",
    "X_train, X_test, y_train, y_test = train_test_split(X, y, test_size = 0.2, random_state = 42)"
   ]
  },
  {
   "cell_type": "code",
   "execution_count": 93,
   "id": "3eb44a5d",
   "metadata": {},
   "outputs": [],
   "source": [
    "from sklearn.preprocessing import StandardScaler\n",
    "\n",
    "#Standardize the dataset\n",
    "sc = StandardScaler()\n",
    "X_train = sc.fit_transform(X_train)\n",
    "X_test = sc.fit_transform(X_test)"
   ]
  },
  {
   "cell_type": "code",
   "execution_count": 15,
   "id": "d2a3d72b",
   "metadata": {},
   "outputs": [
    {
     "name": "stdout",
     "output_type": "stream",
     "text": [
      "<class 'pandas.core.frame.DataFrame'>\n",
      "RangeIndex: 4177 entries, 0 to 4176\n",
      "Data columns (total 5 columns):\n",
      " #   Column        Non-Null Count  Dtype  \n",
      "---  ------        --------------  -----  \n",
      " 0   Sex           4177 non-null   int64  \n",
      " 1   Length        4177 non-null   float64\n",
      " 2   Height        4177 non-null   float64\n",
      " 3   Whole weight  4177 non-null   float64\n",
      " 4   Age           4177 non-null   float64\n",
      "dtypes: float64(4), int64(1)\n",
      "memory usage: 163.3 KB\n"
     ]
    }
   ],
   "source": [
    "abalone_df_new.info()"
   ]
  },
  {
   "cell_type": "code",
   "execution_count": 95,
   "id": "eb8cb057",
   "metadata": {},
   "outputs": [],
   "source": [
    "import tensorflow as tf"
   ]
  },
  {
   "cell_type": "code",
   "execution_count": 96,
   "id": "494d1e4d",
   "metadata": {},
   "outputs": [],
   "source": [
    "import keras\n",
    "from keras import optimizers\n",
    "from keras.layers import Dense\n",
    "from keras.models import Sequential\n",
    "from keras.callbacks import EarlyStopping"
   ]
  },
  {
   "cell_type": "code",
   "execution_count": 110,
   "id": "f8945711",
   "metadata": {},
   "outputs": [],
   "source": [
    "from keras.optimizers import SGD\n",
    "from keras.optimizers import Adam"
   ]
  },
  {
   "cell_type": "code",
   "execution_count": 98,
   "id": "b9e57225",
   "metadata": {},
   "outputs": [
    {
     "name": "stdout",
     "output_type": "stream",
     "text": [
      "8\n"
     ]
    }
   ],
   "source": [
    "#get the number of columns in the predictors array\n",
    "n_cols = X_train.shape[1]\n",
    "print(n_cols)"
   ]
  },
  {
   "cell_type": "code",
   "execution_count": 112,
   "id": "72e8a68f",
   "metadata": {},
   "outputs": [],
   "source": [
    "keras_model = Sequential()\n",
    "keras_model.add(Dense(8, input_dim=8, activation='relu'))\n",
    "keras_model.add(Dense(1, activation='linear'))"
   ]
  },
  {
   "cell_type": "code",
   "execution_count": 113,
   "id": "b60afc36",
   "metadata": {},
   "outputs": [
    {
     "name": "stdout",
     "output_type": "stream",
     "text": [
      "MSE =  4.73\n",
      "RMSE =  2.17\n",
      "R2 Score =  0.56\n"
     ]
    }
   ],
   "source": [
    "keras_model.compile(optimizer='Adam', loss='mean_squared_error')\n",
    "\n",
    "#fit the model\n",
    "keras_model.fit(X_train, y_train, validation_data=(X_test, y_test), verbose=0, epochs=100)\n",
    "\n",
    "#get the predictions from the model\n",
    "y_pred = keras_model.predict(X_test)\n",
    "\n",
    "# Calculate the mean squared error\n",
    "mse_keras = MSE(y_test, y_pred)\n",
    "print(\"MSE = \", round(mse_keras, 2))\n",
    "\n",
    "# Calculate the root mean squared error\n",
    "rmse_keras = MSE(y_test, y_pred)**(1/2)\n",
    "print(\"RMSE = \", round(rmse_keras, 2))\n",
    "\n",
    "#Get r2 score\n",
    "r2_keras = r2_score(y_test, y_pred)\n",
    "print(\"R2 Score = \", round(r2_keras, 2))"
   ]
  },
  {
   "cell_type": "markdown",
   "id": "db1f50ac",
   "metadata": {},
   "source": [
    "### 4.\tWrite another algorithm to predict the same result as the previous question using either KNN or logistic regression."
   ]
  },
  {
   "cell_type": "code",
   "execution_count": 106,
   "id": "1d50de1b",
   "metadata": {},
   "outputs": [
    {
     "name": "stdout",
     "output_type": "stream",
     "text": [
      "MSE =  5.45\n",
      "RMSE =  2.33\n",
      "R2 Score =  0.5\n"
     ]
    }
   ],
   "source": [
    "from sklearn.neighbors import KNeighborsRegressor\n",
    "\n",
    "#KNN regression model\n",
    "knn = KNeighborsRegressor(n_neighbors=5)\n",
    "knn.fit(X_train, y_train)\n",
    "y_pred = knn.predict(X_test)\n",
    "\n",
    "knn_mse = MSE(y_test,y_pred)\n",
    "knn_rmse = knn_mse ** (1/2)\n",
    "\n",
    "# Calculate the mean squared error\n",
    "mse_knn = MSE(y_test, y_pred)\n",
    "print(\"MSE = \", round(mse_knn, 2))\n",
    "\n",
    "# Calculate the root mean squared error\n",
    "rmse_knn = MSE(y_test, y_pred)**(1/2)\n",
    "print(\"RMSE = \", round(rmse_knn, 2))\n",
    "\n",
    "#Get r2 score\n",
    "r2_knn = r2_score(y_test, y_pred)\n",
    "print(\"R2 Score = \", round(r2_knn, 2))"
   ]
  },
  {
   "cell_type": "markdown",
   "id": "c8bb7711",
   "metadata": {},
   "source": [
    "### 5.\tCreate a neural network using pytorch to predict the same result as question 3."
   ]
  },
  {
   "cell_type": "code",
   "execution_count": 16,
   "id": "00a2c174",
   "metadata": {},
   "outputs": [],
   "source": [
    "import torch"
   ]
  },
  {
   "cell_type": "code",
   "execution_count": 102,
   "id": "1d280316",
   "metadata": {},
   "outputs": [],
   "source": [
    "#Set X and y for the models\n",
    "X = abalone_df.drop('Age', axis=1).values\n",
    "y = abalone_df['Age'].values\n",
    "\n",
    "#split the dataset into testing and training portions, with the testing portion making up 20% of the data.\n",
    "X_train, X_test, y_train, y_test = train_test_split(X, y, test_size = 0.2, random_state = 42)"
   ]
  },
  {
   "cell_type": "code",
   "execution_count": 103,
   "id": "f7cc7e9d",
   "metadata": {},
   "outputs": [],
   "source": [
    "#Standardize the dataset\n",
    "sc = StandardScaler()\n",
    "X_train = sc.fit_transform(X_train)\n",
    "X_test = sc.fit_transform(X_test)"
   ]
  },
  {
   "cell_type": "code",
   "execution_count": 104,
   "id": "fc08796b",
   "metadata": {},
   "outputs": [
    {
     "name": "stdout",
     "output_type": "stream",
     "text": [
      "torch.Size([3341, 8])\n",
      "torch.Size([3341])\n",
      "torch.Size([836, 8])\n",
      "torch.Size([836])\n",
      "tensor([[12.5000],\n",
      "        [ 9.5000],\n",
      "        [ 8.5000],\n",
      "        ...,\n",
      "        [12.5000],\n",
      "        [10.5000],\n",
      "        [ 7.5000]])\n"
     ]
    }
   ],
   "source": [
    "import torch.nn as nn\n",
    "import torch.nn.functional as F #this has activation functions\n",
    "\n",
    "# Creating tensors\n",
    "X_train_pytorch = torch.FloatTensor(X_train)\n",
    "X_test_pytorch = torch.FloatTensor(X_test)\n",
    "\n",
    "y_train_pytorch = torch.FloatTensor(y_train)\n",
    "y_test_pytorch = torch.FloatTensor(y_test)\n",
    "\n",
    "print(X_train_pytorch.shape)\n",
    "print(y_train_pytorch.shape)\n",
    "print(X_test_pytorch.shape)\n",
    "print(y_test_pytorch.shape)\n",
    "\n",
    "y_train_pytorch = y_train_pytorch.view(-1, 1)\n",
    "y_test_pytorch = y_test_pytorch.view(-1, 1)\n",
    "print(y_train_pytorch)"
   ]
  },
  {
   "cell_type": "code",
   "execution_count": 82,
   "id": "70a4b681",
   "metadata": {},
   "outputs": [],
   "source": [
    "class ANN_Model(nn.Module):\n",
    "    def __init__(self, input_features=8, hidden1=32, hidden2=32, out_features=1):\n",
    "        super().__init__()\n",
    "        self.layer_1_connection = nn.Linear(input_features, hidden1)\n",
    "        self.layer_2_connection = nn.Linear(hidden1, hidden2)\n",
    "        self.out = nn.Linear(hidden2, out_features)\n",
    "    \n",
    "    def forward(self, x):\n",
    "        #apply activation functions\n",
    "        x = F.relu(self.layer_1_connection(x))\n",
    "        x = F.relu(self.layer_2_connection(x))\n",
    "        x = self.out(x)\n",
    "        return x"
   ]
  },
  {
   "cell_type": "code",
   "execution_count": 83,
   "id": "21443c20",
   "metadata": {},
   "outputs": [],
   "source": [
    "torch.manual_seed(42)\n",
    "\n",
    "#instantiate the model\n",
    "ann_model = ANN_Model()"
   ]
  },
  {
   "cell_type": "code",
   "execution_count": 84,
   "id": "c64d9411",
   "metadata": {},
   "outputs": [],
   "source": [
    "# loss function\n",
    "loss_function = nn.MSELoss()\n",
    "\n",
    "#optimizer\n",
    "optimizer = torch.optim.Adam(ann_model.parameters(), lr = 0.04)"
   ]
  },
  {
   "cell_type": "code",
   "execution_count": 85,
   "id": "d939e125",
   "metadata": {},
   "outputs": [
    {
     "name": "stdout",
     "output_type": "stream",
     "text": [
      "Epoch number: 1 with loss: 122.26946258544922\n",
      "Epoch number: 11 with loss: 23.1892147064209\n",
      "Epoch number: 21 with loss: 8.845199584960938\n",
      "Epoch number: 31 with loss: 6.754244327545166\n",
      "Epoch number: 41 with loss: 5.545279502868652\n",
      "Epoch number: 51 with loss: 5.064039707183838\n",
      "Epoch number: 61 with loss: 4.843360424041748\n",
      "Epoch number: 71 with loss: 4.699892044067383\n",
      "Epoch number: 81 with loss: 4.617918968200684\n",
      "Epoch number: 91 with loss: 4.5640869140625\n",
      "Epoch number: 101 with loss: 4.517845153808594\n",
      "Epoch number: 111 with loss: 4.476467132568359\n",
      "Epoch number: 121 with loss: 4.439850807189941\n",
      "Epoch number: 131 with loss: 4.40596866607666\n",
      "Epoch number: 141 with loss: 4.37349796295166\n",
      "Epoch number: 151 with loss: 4.341666221618652\n",
      "Epoch number: 161 with loss: 4.309715270996094\n",
      "Epoch number: 171 with loss: 4.281623363494873\n",
      "Epoch number: 181 with loss: 4.25327205657959\n",
      "Epoch number: 191 with loss: 4.232792854309082\n",
      "Epoch number: 201 with loss: 4.2102742195129395\n",
      "Epoch number: 211 with loss: 4.192080974578857\n",
      "Epoch number: 221 with loss: 4.186969757080078\n",
      "Epoch number: 231 with loss: 4.165741920471191\n",
      "Epoch number: 241 with loss: 4.155767917633057\n",
      "Epoch number: 251 with loss: 4.144384860992432\n",
      "Epoch number: 261 with loss: 4.145305156707764\n",
      "Epoch number: 271 with loss: 4.131030082702637\n",
      "Epoch number: 281 with loss: 4.129979610443115\n",
      "Epoch number: 291 with loss: 4.123305320739746\n",
      "Epoch number: 301 with loss: 4.114236831665039\n",
      "Epoch number: 311 with loss: 4.115585803985596\n",
      "Epoch number: 321 with loss: 4.108296871185303\n",
      "Epoch number: 331 with loss: 4.093064308166504\n",
      "Epoch number: 341 with loss: 4.086889743804932\n",
      "Epoch number: 351 with loss: 4.181698322296143\n",
      "Epoch number: 361 with loss: 4.100539207458496\n",
      "Epoch number: 371 with loss: 4.070413112640381\n",
      "Epoch number: 381 with loss: 4.053791522979736\n",
      "Epoch number: 391 with loss: 4.044198036193848\n",
      "Epoch number: 401 with loss: 4.078152656555176\n",
      "Epoch number: 411 with loss: 4.032827377319336\n",
      "Epoch number: 421 with loss: 4.023628234863281\n",
      "Epoch number: 431 with loss: 4.019599437713623\n",
      "Epoch number: 441 with loss: 4.301700592041016\n",
      "Epoch number: 451 with loss: 4.057894229888916\n",
      "Epoch number: 461 with loss: 4.022538185119629\n",
      "Epoch number: 471 with loss: 4.000624179840088\n",
      "Epoch number: 481 with loss: 3.9929726123809814\n",
      "Epoch number: 491 with loss: 4.100419521331787\n",
      "Epoch number: 501 with loss: 3.9926340579986572\n",
      "Epoch number: 511 with loss: 3.992656946182251\n",
      "Epoch number: 521 with loss: 3.983076572418213\n",
      "Epoch number: 531 with loss: 4.077537536621094\n",
      "Epoch number: 541 with loss: 4.119010925292969\n",
      "Epoch number: 551 with loss: 4.023447036743164\n",
      "Epoch number: 561 with loss: 3.9826736450195312\n",
      "Epoch number: 571 with loss: 3.966221570968628\n",
      "Epoch number: 581 with loss: 3.9527812004089355\n",
      "Epoch number: 591 with loss: 3.946194887161255\n"
     ]
    }
   ],
   "source": [
    "#run model through multiple epochs/iterations\n",
    "final_loss = []\n",
    "n_epochs = 600\n",
    "for epoch in range(n_epochs):\n",
    "    y_pred_pytorch = ann_model.forward(X_train_pytorch)\n",
    "    loss = loss_function(y_pred_pytorch, y_train_pytorch)\n",
    "    final_loss.append(loss)\n",
    "    \n",
    "    if epoch % 10 == 1:\n",
    "        print(f'Epoch number: {epoch} with loss: {loss.item()}')\n",
    "    \n",
    "    optimizer.zero_grad() #zero the gradient before running backwards propagation\n",
    "    loss.backward() #for backward propagation \n",
    "    optimizer.step() #performs one optimization step each epoch"
   ]
  },
  {
   "cell_type": "code",
   "execution_count": 86,
   "id": "f6c6bd80",
   "metadata": {},
   "outputs": [],
   "source": [
    "#predictions\n",
    "y_pred_torch_test = []\n",
    "\n",
    "with torch.no_grad():\n",
    "    for i, data in enumerate(X_test_pytorch):\n",
    "        prediction = ann_model(data)\n",
    "        y_pred_torch_test.append(prediction.argmax().item())"
   ]
  },
  {
   "cell_type": "code",
   "execution_count": 87,
   "id": "ae312cf0",
   "metadata": {},
   "outputs": [
    {
     "name": "stdout",
     "output_type": "stream",
     "text": [
      "MSE =  140.56\n",
      "RMSE =  11.86\n",
      "R2 Score =  -11.98\n"
     ]
    }
   ],
   "source": [
    "from sklearn.metrics import mean_squared_error as MSE\n",
    "from sklearn.metrics import r2_score\n",
    "\n",
    "# Calculate the root mean square error\n",
    "mse_pytorch = MSE(y_test_pytorch, y_pred_torch_test)\n",
    "print(\"MSE = \", round(mse_pytorch, 2))\n",
    "\n",
    "rmse_pytorch = MSE(y_test_pytorch, y_pred_torch_test)**(1/2)\n",
    "print(\"RMSE = \", round(rmse_pytorch, 2))\n",
    "\n",
    "#Get r2 score\n",
    "r2_pytorch = r2_score(y_test_pytorch, y_pred_torch_test)\n",
    "print('R2 Score = ' , round(r2_pytorch, 2))"
   ]
  },
  {
   "cell_type": "markdown",
   "id": "5d62099e",
   "metadata": {},
   "source": [
    "### 6.\tCompare the performance of the neural networks to the other model you created. Which performed better? Why do you think that is?"
   ]
  },
  {
   "cell_type": "markdown",
   "id": "3c474726",
   "metadata": {},
   "source": []
  }
 ],
 "metadata": {
  "kernelspec": {
   "display_name": "Python 3 (ipykernel)",
   "language": "python",
   "name": "python3"
  },
  "language_info": {
   "codemirror_mode": {
    "name": "ipython",
    "version": 3
   },
   "file_extension": ".py",
   "mimetype": "text/x-python",
   "name": "python",
   "nbconvert_exporter": "python",
   "pygments_lexer": "ipython3",
   "version": "3.9.6"
  }
 },
 "nbformat": 4,
 "nbformat_minor": 5
}
