{
 "cells": [
  {
   "cell_type": "code",
   "execution_count": 1,
   "metadata": {},
   "outputs": [
    {
     "data": {
      "text/html": [
       "<div>\n",
       "<style scoped>\n",
       "    .dataframe tbody tr th:only-of-type {\n",
       "        vertical-align: middle;\n",
       "    }\n",
       "\n",
       "    .dataframe tbody tr th {\n",
       "        vertical-align: top;\n",
       "    }\n",
       "\n",
       "    .dataframe thead th {\n",
       "        text-align: right;\n",
       "    }\n",
       "</style>\n",
       "<table border=\"1\" class=\"dataframe\">\n",
       "  <thead>\n",
       "    <tr style=\"text-align: right;\">\n",
       "      <th></th>\n",
       "      <th>Pregnancies</th>\n",
       "      <th>Glucose</th>\n",
       "      <th>BloodPressure</th>\n",
       "      <th>SkinThickness</th>\n",
       "      <th>Insulin</th>\n",
       "      <th>BMI</th>\n",
       "      <th>DiabetesPedigreeFunction</th>\n",
       "      <th>Age</th>\n",
       "      <th>Outcome</th>\n",
       "    </tr>\n",
       "  </thead>\n",
       "  <tbody>\n",
       "    <tr>\n",
       "      <th>0</th>\n",
       "      <td>6</td>\n",
       "      <td>148</td>\n",
       "      <td>72</td>\n",
       "      <td>35</td>\n",
       "      <td>0</td>\n",
       "      <td>33.6</td>\n",
       "      <td>0.627</td>\n",
       "      <td>50</td>\n",
       "      <td>1</td>\n",
       "    </tr>\n",
       "    <tr>\n",
       "      <th>1</th>\n",
       "      <td>1</td>\n",
       "      <td>85</td>\n",
       "      <td>66</td>\n",
       "      <td>29</td>\n",
       "      <td>0</td>\n",
       "      <td>26.6</td>\n",
       "      <td>0.351</td>\n",
       "      <td>31</td>\n",
       "      <td>0</td>\n",
       "    </tr>\n",
       "    <tr>\n",
       "      <th>2</th>\n",
       "      <td>8</td>\n",
       "      <td>183</td>\n",
       "      <td>64</td>\n",
       "      <td>0</td>\n",
       "      <td>0</td>\n",
       "      <td>23.3</td>\n",
       "      <td>0.672</td>\n",
       "      <td>32</td>\n",
       "      <td>1</td>\n",
       "    </tr>\n",
       "    <tr>\n",
       "      <th>3</th>\n",
       "      <td>1</td>\n",
       "      <td>89</td>\n",
       "      <td>66</td>\n",
       "      <td>23</td>\n",
       "      <td>94</td>\n",
       "      <td>28.1</td>\n",
       "      <td>0.167</td>\n",
       "      <td>21</td>\n",
       "      <td>0</td>\n",
       "    </tr>\n",
       "    <tr>\n",
       "      <th>4</th>\n",
       "      <td>0</td>\n",
       "      <td>137</td>\n",
       "      <td>40</td>\n",
       "      <td>35</td>\n",
       "      <td>168</td>\n",
       "      <td>43.1</td>\n",
       "      <td>2.288</td>\n",
       "      <td>33</td>\n",
       "      <td>1</td>\n",
       "    </tr>\n",
       "  </tbody>\n",
       "</table>\n",
       "</div>"
      ],
      "text/plain": [
       "   Pregnancies  Glucose  BloodPressure  SkinThickness  Insulin   BMI  \\\n",
       "0            6      148             72             35        0  33.6   \n",
       "1            1       85             66             29        0  26.6   \n",
       "2            8      183             64              0        0  23.3   \n",
       "3            1       89             66             23       94  28.1   \n",
       "4            0      137             40             35      168  43.1   \n",
       "\n",
       "   DiabetesPedigreeFunction  Age  Outcome  \n",
       "0                     0.627   50        1  \n",
       "1                     0.351   31        0  \n",
       "2                     0.672   32        1  \n",
       "3                     0.167   21        0  \n",
       "4                     2.288   33        1  "
      ]
     },
     "execution_count": 1,
     "metadata": {},
     "output_type": "execute_result"
    }
   ],
   "source": [
    "import pandas as pd\n",
    "import torch\n",
    "\n",
    "diabetes_df = pd.read_csv(\"diabetes.csv\")\n",
    "diabetes_df.head()"
   ]
  },
  {
   "cell_type": "code",
   "execution_count": 2,
   "metadata": {},
   "outputs": [],
   "source": [
    "from sklearn.model_selection import train_test_split\n",
    "from sklearn.preprocessing import StandardScaler\n",
    "\n",
    "X = diabetes_df.drop('Outcome', axis=1).values\n",
    "y = diabetes_df['Outcome'].values\n",
    "\n",
    "# Split into training and test set\n",
    "X_train, X_test, y_train, y_test = train_test_split(X, y, test_size = 0.2, random_state=42, stratify=y)\n",
    "\n",
    "# #Standardize\n",
    "sc= StandardScaler()\n",
    "X_train=sc.fit_transform(X_train)\n",
    "X_test=sc.fit_transform(X_test)"
   ]
  },
  {
   "cell_type": "code",
   "execution_count": 3,
   "metadata": {},
   "outputs": [
    {
     "name": "stdout",
     "output_type": "stream",
     "text": [
      "tensor([[-0.8514, -0.9801, -0.4048,  ..., -0.6077,  0.3108, -0.7922],\n",
      "        [ 0.3566,  0.1614,  0.4654,  ..., -0.3021, -0.1164,  0.5610],\n",
      "        [-0.5494, -0.5045, -0.6223,  ...,  0.3726, -0.7649, -0.7076],\n",
      "        ...,\n",
      "        [-0.8514, -0.7582,  0.0303,  ...,  0.7800, -0.7861, -0.2847],\n",
      "        [ 1.8665, -0.3142,  0.0303,  ..., -0.5695, -1.0194,  0.5610],\n",
      "        [ 0.0546,  0.7322, -0.6223,  ..., -0.3149, -0.5770,  0.3073]])\n"
     ]
    }
   ],
   "source": [
    "import torch.nn as nn\n",
    "import torch.nn.functional as F #this has activation functions\n",
    "\n",
    "# Creating tensors\n",
    "X_train = torch.FloatTensor(X_train)\n",
    "X_test = torch.FloatTensor(X_test)\n",
    "\n",
    "y_train = torch.LongTensor(y_train)\n",
    "y_test = torch.LongTensor(y_test)\n",
    "\n",
    "print(X_train)"
   ]
  },
  {
   "cell_type": "code",
   "execution_count": 4,
   "metadata": {},
   "outputs": [],
   "source": [
    "class ANN_Model(nn.Module):\n",
    "    def __init__(self, input_features=8, hidden1=20, hidden2=20, out_features =2):\n",
    "        super().__init__()\n",
    "        self.layer_1_connection = nn.Linear(input_features, hidden1)\n",
    "        self.layer_2_connection = nn.Linear(hidden1, hidden2)\n",
    "        self.out = nn.Linear(hidden2, out_features)\n",
    "    \n",
    "    def forward(self, x):\n",
    "        #apply activation functions\n",
    "        x = F.relu(self.layer_1_connection(x))\n",
    "        x = F.relu(self.layer_2_connection(x))\n",
    "        x = self.out(x)\n",
    "        return x"
   ]
  },
  {
   "cell_type": "code",
   "execution_count": 5,
   "metadata": {},
   "outputs": [],
   "source": [
    "torch.manual_seed(42)\n",
    "\n",
    "#instantiate the model\n",
    "model = ANN_Model()"
   ]
  },
  {
   "cell_type": "code",
   "execution_count": 6,
   "metadata": {},
   "outputs": [],
   "source": [
    "# loss function\n",
    "loss_function = nn.CrossEntropyLoss()\n",
    "\n",
    "#optimizer\n",
    "optimizer = torch.optim.AdamW(model.parameters(), lr = 0.01)"
   ]
  },
  {
   "cell_type": "code",
   "execution_count": 7,
   "metadata": {},
   "outputs": [
    {
     "name": "stdout",
     "output_type": "stream",
     "text": [
      "Epoch number: 1 with loss: 0.6474166512489319\n",
      "Epoch number: 11 with loss: 0.5238223671913147\n",
      "Epoch number: 21 with loss: 0.45228567719459534\n",
      "Epoch number: 31 with loss: 0.41647645831108093\n",
      "Epoch number: 41 with loss: 0.3912210166454315\n",
      "Epoch number: 51 with loss: 0.3679707646369934\n",
      "Epoch number: 61 with loss: 0.342700332403183\n",
      "Epoch number: 71 with loss: 0.3138030469417572\n",
      "Epoch number: 81 with loss: 0.28234538435935974\n",
      "Epoch number: 91 with loss: 0.2524298131465912\n",
      "Epoch number: 101 with loss: 0.22721917927265167\n",
      "Epoch number: 111 with loss: 0.20655879378318787\n",
      "Epoch number: 121 with loss: 0.1846778392791748\n",
      "Epoch number: 131 with loss: 0.16674774885177612\n",
      "Epoch number: 141 with loss: 0.14951631426811218\n",
      "Epoch number: 151 with loss: 0.13775938749313354\n",
      "Epoch number: 161 with loss: 0.12599745392799377\n",
      "Epoch number: 171 with loss: 0.11742440611124039\n",
      "Epoch number: 181 with loss: 0.10884484648704529\n",
      "Epoch number: 191 with loss: 0.10019759833812714\n",
      "Epoch number: 201 with loss: 0.0948677808046341\n",
      "Epoch number: 211 with loss: 0.08651839196681976\n",
      "Epoch number: 221 with loss: 0.07971084862947464\n",
      "Epoch number: 231 with loss: 0.07365678995847702\n",
      "Epoch number: 241 with loss: 0.0678609311580658\n",
      "Epoch number: 251 with loss: 0.061777740716934204\n",
      "Epoch number: 261 with loss: 0.05690452829003334\n",
      "Epoch number: 271 with loss: 0.050879281014204025\n",
      "Epoch number: 281 with loss: 0.04674269258975983\n",
      "Epoch number: 291 with loss: 0.042148418724536896\n",
      "Epoch number: 301 with loss: 0.037610024213790894\n",
      "Epoch number: 311 with loss: 0.03374377638101578\n",
      "Epoch number: 321 with loss: 0.030556757003068924\n",
      "Epoch number: 331 with loss: 0.027738632634282112\n",
      "Epoch number: 341 with loss: 0.025027001276612282\n",
      "Epoch number: 351 with loss: 0.02289138361811638\n",
      "Epoch number: 361 with loss: 0.0209964606910944\n",
      "Epoch number: 371 with loss: 0.019233716651797295\n",
      "Epoch number: 381 with loss: 0.017749810591340065\n",
      "Epoch number: 391 with loss: 0.016392897814512253\n",
      "Epoch number: 401 with loss: 0.01523358840495348\n",
      "Epoch number: 411 with loss: 0.014141424559056759\n",
      "Epoch number: 421 with loss: 0.013199131935834885\n",
      "Epoch number: 431 with loss: 0.012338196858763695\n",
      "Epoch number: 441 with loss: 0.011555474251508713\n",
      "Epoch number: 451 with loss: 0.010855346918106079\n",
      "Epoch number: 461 with loss: 0.010200311429798603\n",
      "Epoch number: 471 with loss: 0.00959839578717947\n",
      "Epoch number: 481 with loss: 0.00903579592704773\n",
      "Epoch number: 491 with loss: 0.008518791757524014\n"
     ]
    }
   ],
   "source": [
    "#run model through multiple epochs/iterations\n",
    "final_loss = []\n",
    "n_epochs = 500\n",
    "for epoch in range(n_epochs):\n",
    "    y_pred = model.forward(X_train)\n",
    "    loss = loss_function(y_pred, y_train)\n",
    "    final_loss.append(loss)\n",
    "    \n",
    "    if epoch % 10 == 1:\n",
    "        print(f'Epoch number: {epoch} with loss: {loss.item()}')\n",
    "    \n",
    "    optimizer.zero_grad() #zero the gradient before running backwards propagation\n",
    "    loss.backward() #for backward propagation \n",
    "    optimizer.step() #performs one optimization step each epoch\n",
    "    "
   ]
  },
  {
   "cell_type": "code",
   "execution_count": 8,
   "metadata": {},
   "outputs": [],
   "source": [
    "#predictions\n",
    "y_pred = []\n",
    "\n",
    "with torch.no_grad():\n",
    "    for i, data in enumerate(X_test):\n",
    "        prediction = model(data)\n",
    "        y_pred.append(prediction.argmax().item())\n",
    "\n"
   ]
  },
  {
   "cell_type": "code",
   "execution_count": 9,
   "metadata": {},
   "outputs": [
    {
     "name": "stdout",
     "output_type": "stream",
     "text": [
      "0.7337662337662337\n"
     ]
    }
   ],
   "source": [
    "from sklearn.metrics import accuracy_score\n",
    "a_score = accuracy_score(y_test, y_pred)\n",
    "print(a_score)"
   ]
  },
  {
   "cell_type": "code",
   "execution_count": 10,
   "metadata": {},
   "outputs": [
    {
     "name": "stdout",
     "output_type": "stream",
     "text": [
      "              precision    recall  f1-score   support\n",
      "\n",
      "           0       0.83      0.74      0.78       100\n",
      "           1       0.60      0.72      0.66        54\n",
      "\n",
      "    accuracy                           0.73       154\n",
      "   macro avg       0.72      0.73      0.72       154\n",
      "weighted avg       0.75      0.73      0.74       154\n",
      "\n"
     ]
    }
   ],
   "source": [
    "from sklearn.metrics import classification_report\n",
    "\n",
    "print(classification_report(y_test, y_pred))"
   ]
  },
  {
   "cell_type": "markdown",
   "metadata": {},
   "source": [
    "Scores were substantially lower with SGD. Scores were somewhat higher with AdamW. \n",
    "\n",
    "With SGD, loss only decreased slightly, from 0.6612 at epoch 1 to 0.5982 at epoch 491. Accuracy, precision, recall, and f1 scores ranged from 0.32 to 0.65, so some were very low and none were especially high. \n",
    "\n",
    "Alternatively, with AdamW and to a slightly lesser extent with Adam, loss decreased drastically every 10 epochs. Using the Adam W optimizer, loss was reduced from 0.6474 at epoch 1 to 0.0085 at epoch 491. Accuracy, precision, recall, and F1 scores were all at or above 0.7. Using the Adam optimizer, loss was reduced even more (from 0.6474 at epoch 1 to 0.0046 at epoch 491). However, scores were slightly lower, though still at or above 0.67 across the board. "
   ]
  },
  {
   "cell_type": "code",
   "execution_count": 11,
   "metadata": {},
   "outputs": [],
   "source": [
    "def divisors(number):\n",
    "    divisor_list = []\n",
    "    for i in range(1, number + 1):\n",
    "        if number % i == 0:\n",
    "            divisor_list.append(i)\n",
    "        else:\n",
    "            pass\n",
    "    if len(divisor_list) == 1:\n",
    "        converted_list = [str(element) for element in divisor_list]\n",
    "        print(\"There is\", len(divisor_list), \"divisor:\", \"\".join(converted_list))\n",
    "    elif len(divisor_list) == 2:\n",
    "        converted_list = [str(element) for element in divisor_list]\n",
    "        print(\"There are\", len(divisor_list), \"divisors:\", \" and \".join(converted_list))\n",
    "    else:\n",
    "        converted_list = [str(element) for element in divisor_list]\n",
    "        print(\"There are\", len(divisor_list), \"divisors:\", \", \".join(converted_list[:-1]) + \", and \" + converted_list[-1])"
   ]
  },
  {
   "cell_type": "code",
   "execution_count": 12,
   "metadata": {},
   "outputs": [
    {
     "name": "stdout",
     "output_type": "stream",
     "text": [
      "There is 1 divisor: 1\n"
     ]
    }
   ],
   "source": [
    "divisors(1)"
   ]
  },
  {
   "cell_type": "code",
   "execution_count": 13,
   "metadata": {},
   "outputs": [
    {
     "name": "stdout",
     "output_type": "stream",
     "text": [
      "There are 2 divisors: 1 and 5\n"
     ]
    }
   ],
   "source": [
    "divisors(5)"
   ]
  },
  {
   "cell_type": "code",
   "execution_count": 14,
   "metadata": {},
   "outputs": [
    {
     "name": "stdout",
     "output_type": "stream",
     "text": [
      "There are 8 divisors: 1, 2, 4, 5, 8, 10, 20, and 40\n"
     ]
    }
   ],
   "source": [
    "divisors(40)"
   ]
  }
 ],
 "metadata": {
  "kernelspec": {
   "display_name": "Python 3",
   "language": "python",
   "name": "python3"
  },
  "language_info": {
   "codemirror_mode": {
    "name": "ipython",
    "version": 3
   },
   "file_extension": ".py",
   "mimetype": "text/x-python",
   "name": "python",
   "nbconvert_exporter": "python",
   "pygments_lexer": "ipython3",
   "version": "3.8.5"
  }
 },
 "nbformat": 4,
 "nbformat_minor": 4
}
